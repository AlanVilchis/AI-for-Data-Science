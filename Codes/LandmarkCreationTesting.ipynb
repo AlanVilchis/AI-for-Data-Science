{
 "cells": [
  {
   "cell_type": "markdown",
   "metadata": {},
   "source": [
    "Borrador con las pruebas para la creacion del codigo 1_CreacionDatasetCV2.ipynb"
   ]
  },
  {
   "cell_type": "code",
   "execution_count": 2,
   "metadata": {},
   "outputs": [],
   "source": [
    "import cv2\n",
    "import numpy as np\n",
    "import matplotlib.pyplot as plt\n",
    "import math"
   ]
  },
  {
   "cell_type": "code",
   "execution_count": 3,
   "metadata": {},
   "outputs": [],
   "source": [
    "# Define functions\n",
    "\n",
    "# Sort landmarks\n",
    "def angle_from_reference(point, reference):\n",
    "    x, y = point[0] - reference[0], point[1] - reference[1]\n",
    "    return math.atan2(y, x)\n",
    "\n",
    "def sort_points_clockwise(points):\n",
    "    reference_point = min(points, key=lambda p: p[1])\n",
    "    sorted_points = sorted(points, key=lambda p: angle_from_reference(p, reference_point))\n",
    "    return sorted_points\n",
    "\n",
    "def masked_heatmap(outline, landmarks):\n",
    "    masked_heatmaps = []\n",
    "    for i in range(len(landmarks)):\n",
    "        outline = outline / 255.0\n",
    "        masked_heatmap_i = outline * landmarks[i]  # Create a new array instead of modifying 'outline'\n",
    "        \n",
    "        max_val = np.max(landmarks[i])\n",
    "        masked_heatmap_i = masked_heatmap_i / max_val\n",
    "\n",
    "        masked_heatmaps.append(masked_heatmap_i)  # Append the new array to the list\n",
    "\n",
    "    return masked_heatmaps\n",
    "\n",
    "def extract_landmarks(image):\n",
    "    contours, _ = cv2.findContours(image, cv2.RETR_EXTERNAL, cv2.CHAIN_APPROX_SIMPLE)\n",
    "    largest_contour = max(contours, key=cv2.contourArea)\n",
    "    perimeter = cv2.arcLength(largest_contour, closed=True)\n",
    "    mindis = perimeter / (landmark_number * 2)\n",
    "\n",
    "    corners = cv2.goodFeaturesToTrack(image, maxCorners=7, qualityLevel=0.01, minDistance=mindis)\n",
    "    keypoints = [cv2.KeyPoint(x[0][0], x[0][1], 2) for x in corners]\n",
    "    landmarks = [(int(keypoint.pt[0]), int(keypoint.pt[1])) for keypoint in keypoints]\n",
    "    sorted_landmarks = sort_points_clockwise(landmarks)\n",
    "    return sorted_landmarks"
   ]
  },
  {
   "cell_type": "code",
   "execution_count": 4,
   "metadata": {},
   "outputs": [
    {
     "data": {
      "image/png": "[encoded data removed]",
      "text/plain": [
       "<Figure size 432x288 with 1 Axes>"
      ]
     },
     "metadata": {
      "needs_background": "light"
     },
     "output_type": "display_data"
    }
   ],
   "source": [
    "\n",
    "\n",
    "#54.359375  27.380208 73.135417  75.687500\n",
    "#51.710748  29.863296  58.941308  27.052927\n",
    "import cv2\n",
    "import matplotlib.pyplot as plt\n",
    "\n",
    "# Read the image\n",
    "image_path = '/home/alanr/Documents/Corazon/Data/train/mask/0X100E3B8D3280BEC5_25.png'\n",
    "image = cv2.imread(image_path, 0)  # 0 indicates grayscale\n",
    "\n",
    "# Display the image\n",
    "plt.imshow(image, cmap='gray')\n",
    "plt.title('Corner Detection')\n",
    "\n",
    "# Plot the point (54.359375, 27.380208) on the image\n",
    "plt.scatter([54.359375], [27.380208], color='red', marker='x', s=100)\n",
    "plt.scatter([64.619162], [77.176429], color='red', marker='x', s=100)\n",
    "plt.scatter([84.155579], [72.490272], color='red', marker='x', s=100)\n",
    "plt.scatter([93], [58], color='red', marker='x', s=100)\n",
    "plt.scatter([21], [70], color='red', marker='x', s=100)\n",
    "# Create a heatmap with a filled circle at the landmark position\n",
    "heatmap = np.zeros_like(image, dtype=np.float32)\n",
    "#cv2.circle(heatmap, (int(73.135417), int(112-75.687500)), 2, 1, -1)\n",
    "\n",
    "# Show the heatmap\n",
    "#plt.imshow(heatmap, cmap='jet')  # Add alpha to make the heatmap partially transparent\n",
    "\n",
    "\n",
    "# Show the plot\n",
    "plt.show()\n",
    "\n"
   ]
  },
  {
   "cell_type": "code",
   "execution_count": 5,
   "metadata": {},
   "outputs": [
    {
     "data": {
      "text/plain": [
       "<matplotlib.image.AxesImage at 0x7fb015a60e80>"
      ]
     },
     "execution_count": 5,
     "metadata": {},
     "output_type": "execute_result"
    },
    {
     "data": {
      "image/png": "[encoded data removed]",
      "text/plain": [
       "<Figure size 432x288 with 1 Axes>"
      ]
     },
     "metadata": {
      "needs_background": "light"
     },
     "output_type": "display_data"
    }
   ],
   "source": [
    "plt.imshow(image, cmap='gray')"
   ]
  },
  {
   "cell_type": "code",
   "execution_count": 6,
   "metadata": {},
   "outputs": [
    {
     "data": {
      "image/png": "[encoded data removed]",
      "text/plain": [
       "<Figure size 432x288 with 1 Axes>"
      ]
     },
     "metadata": {
      "needs_background": "light"
     },
     "output_type": "display_data"
    }
   ],
   "source": [
    "import matplotlib.pyplot as plt\n",
    "\n",
    "# Define the points\n",
    "points = [(64, 27), (84, 61), (85, 73), (60, 73), (55, 63), (49, 48), (52, 29)]\n",
    "\n",
    "# Create an image of size 112x112\n",
    "image_size = 112\n",
    "image = np.zeros((image_size, image_size), dtype=np.uint8)\n",
    "\n",
    "# Plot the points on the image\n",
    "for i, point in enumerate(points):\n",
    "    x, y = point\n",
    "    # Ensure the point is within the image bounds\n",
    "    if 0 <= x < image_size and 0 <= y < image_size:\n",
    "        image[y, x] = 255  # Set pixel intensity to 255 (white)\n",
    "        plt.text(x, y, f'Point {i + 1}', color='blue', fontsize=8, ha='center', va='center')\n",
    "\n",
    "# Display the image with the plotted points and labels\n",
    "plt.imshow(image, cmap='gray')\n",
    "plt.scatter(*zip(*points), color='red', marker='o', label='Points')\n",
    "plt.title('Points Plotted on Image with Labels')\n",
    "plt.legend()\n",
    "plt.show()\n"
   ]
  },
  {
   "cell_type": "code",
   "execution_count": 7,
   "metadata": {},
   "outputs": [],
   "source": [
    "from PIL import Image, ImageDraw\n",
    "import numpy as np\n",
    "\n",
    "def convert_white_to_black(image_path, point1, point2):\n",
    "    # Open the image\n",
    "    img = cv2.imread(image_path, 0)\n",
    "\n",
    "    # Create a NumPy array from the image for easier manipulation\n",
    "    img_array = np.array(img)\n",
    "    \n",
    "    # Get image dimensions\n",
    "    height, width = img_array.shape\n",
    "\n",
    "    # Iterate through each pixel\n",
    "    for x in range(point1[0], min(point2[0], width)):\n",
    "        for y in range(height):\n",
    "            # Check if the pixel is white\n",
    "            if img_array[y, x] == 255:\n",
    "                # Check if the pixel is to the right of the line formed by point1 and point2\n",
    "                angle = np.arctan2(point2[1] - point1[1], point2[0] - point1[0])\n",
    "                current_angle = np.arctan2(y - point1[1], x - point1[0])\n",
    "                \n",
    "                if current_angle >= angle:\n",
    "                    # Convert white pixel to black\n",
    "                    img_array[y, x] = 0\n",
    "\n",
    "    # Convert the NumPy array back to an image\n",
    "    result_img = Image.fromarray(img_array)\n",
    "\n",
    "    # Save the modified image\n",
    "    result_img.save(\"output_image.png\")\n",
    "\n",
    "# Example usage\n",
    "image_path = '/home/alanr/Documents/Corazon/Data/train/mask/0X100E3B8D3280BEC5_25.png'\n",
    "point1 = (int(54.359375), int(27.380208))  # Replace with the coordinates of your first point\n",
    "point2 = (int(64.619162), int(77.176429))  # Replace with the coordinates of your second point\n",
    "\n",
    "convert_white_to_black(image_path, point1, point2)\n"
   ]
  },
  {
   "cell_type": "code",
   "execution_count": 8,
   "metadata": {},
   "outputs": [
    {
     "name": "stdout",
     "output_type": "stream",
     "text": [
      "(87.66025403784438, 65.30127018922194)\n"
     ]
    }
   ],
   "source": [
    "import math\n",
    "#R\n",
    "\n",
    "def get_point(x1, y1, x2, y2):\n",
    "    #express coordinates of the point (x2, y2) with respect to point (x1, y1)\n",
    "    dx = x2 - x1\n",
    "    dy = y2 - y1\n",
    "\n",
    "    alpha = 30./180*math.pi\n",
    "    #rotate the displacement vector and add the result back to the original point\n",
    "    xp = x1 + math.cos( alpha)*dx + math.sin(alpha)*dy\n",
    "    yp = y1 + math.sin(-alpha)*dx + math.cos(alpha)*dy\n",
    "\n",
    "    return (xp, yp)\n",
    "\n",
    "\n",
    "print(get_point(54, 27, 64, 77))"
   ]
  },
  {
   "cell_type": "code",
   "execution_count": 9,
   "metadata": {},
   "outputs": [
    {
     "name": "stdout",
     "output_type": "stream",
     "text": [
      "(21.97443636440419, 70.58168507323234)\n"
     ]
    }
   ],
   "source": [
    "#L\n",
    "def get_point(x1, y1, x2, y2):\n",
    "    #express coordinates of the point (x2, y2) with respect to point (x1, y1)\n",
    "    dx = x2 - x1\n",
    "    dy = y2 - y1\n",
    "\n",
    "    alpha = -70./180*math.pi\n",
    "    #rotate the displacement vector and add the result back to the original point\n",
    "    xp = x1 + math.cos( alpha)*dx + math.sin(alpha)*dy\n",
    "    yp = y1 + math.sin(-alpha)*dx + math.cos(alpha)*dy\n",
    "\n",
    "    return (xp, yp)\n",
    "\n",
    "\n",
    "print(get_point(54, 27, 84, 72))"
   ]
  },
  {
   "cell_type": "code",
   "execution_count": 10,
   "metadata": {},
   "outputs": [
    {
     "data": {
      "image/png": "[encoded data removed]",
      "text/plain": [
       "<Figure size 432x288 with 1 Axes>"
      ]
     },
     "metadata": {
      "needs_background": "light"
     },
     "output_type": "display_data"
    }
   ],
   "source": [
    "#NS\n",
    "import numpy as np\n",
    "import matplotlib.pyplot as plt\n",
    "\n",
    "# Define the points\n",
    "point1 = (10, 30)\n",
    "point2 = (60, 80)\n",
    "point3 = (110, 50)\n",
    "\n",
    "# Create a blank image with black background\n",
    "width, height = 112, 112\n",
    "image = np.zeros((height, width), dtype=np.uint8)\n",
    "\n",
    "# Create arrays for the lines passing through point1 and point3, and point2 and point3\n",
    "line1 = np.linspace(point1, point3, num=100).astype(int)\n",
    "line2 = np.linspace(point2, point3, num=100).astype(int)\n",
    "line3 = np.linspace(point2, (0, point2[1]), num=100).astype(int)\n",
    "line4 = np.linspace(point1, (0, point1[1]), num=100).astype(int)\n",
    "\n",
    "# Fill the area inside the lines with white color\n",
    "image[line1[:, 1], line1[:, 0]] = 255\n",
    "image[line2[:, 1], line2[:, 0]] = 255\n",
    "image[line3[:, 1], line3[:, 0]] = 255\n",
    "image[line4[:, 1], line4[:, 0]] = 255\n",
    "\n",
    "# Plot the image\n",
    "plt.imshow(image, cmap='gray')\n",
    "plt.show()\n"
   ]
  },
  {
   "cell_type": "code",
   "execution_count": 43,
   "metadata": {},
   "outputs": [
    {
     "name": "stdout",
     "output_type": "stream",
     "text": [
      "<class 'tuple'>\n"
     ]
    },
    {
     "data": {
      "image/png": "[encoded data removed]",
      "text/plain": [
       "<Figure size 432x288 with 1 Axes>"
      ]
     },
     "metadata": {
      "needs_background": "light"
     },
     "output_type": "display_data"
    }
   ],
   "source": [
    "#R\n",
    "from PIL import Image, ImageDraw\n",
    "\n",
    "# Define the points\n",
    "point1 = (54, 27)\n",
    "print(type(point1))    \n",
    "point2 = (84, 72)\n",
    "point3 = (22, 70)\n",
    "\n",
    "# Create a blank image with white background\n",
    "width, height = 112, 112\n",
    "imageRightFirst = Image.new(\"L\", (width, height), \"white\")\n",
    "draw = ImageDraw.Draw(imageRightFirst)\n",
    "\n",
    "# Draw lines passing through point1 and point3, and point2 and point3\n",
    "draw.line([point1, point3], fill=\"black\", width=2)\n",
    "draw.line([point2, point3], fill=\"black\", width=2)\n",
    "\n",
    "\n",
    "\n",
    "# Fill the area to the left of the lines with black color\n",
    "draw.polygon([point1, point3, (0, height), (0, 0)], fill=\"black\")\n",
    "draw.polygon([point2, point3, (0, height), (0, 0)], fill=\"black\")\n",
    "#imageRightFirst = Image.eval(imageRightFirst, lambda x: 255.0 - x)\n",
    "\n",
    "# Draw 3x3 white pixel squares with the given points as the center\n",
    "draw.rectangle([point1[0]-1, point1[1]-1, point1[0]+1, point1[1]+1], fill=\"black\")\n",
    "draw.rectangle([point2[0]-1, point2[1]-1, point2[0]+1, point2[1]+1], fill=\"black\")\n",
    "draw.rectangle([point3[0]-1, point3[1]-1, point3[0]+1, point3[1]+1], fill=\"black\")\n",
    "\n",
    "# Save or display the resulting image\n",
    "\n",
    "plt.imshow(imageRightFirst, cmap='gray')\n",
    "plt.show()\n"
   ]
  },
  {
   "cell_type": "code",
   "execution_count": 34,
   "metadata": {},
   "outputs": [
    {
     "data": {
      "image/png": "[encoded data removed]",
      "text/plain": [
       "<Figure size 432x288 with 1 Axes>"
      ]
     },
     "metadata": {
      "needs_background": "light"
     },
     "output_type": "display_data"
    }
   ],
   "source": [
    "#L\n",
    "#R\n",
    "from PIL import Image, ImageDraw\n",
    "\n",
    "# Define the points\n",
    "point1 = (54, 27)\n",
    "point2 = (64, 77)\n",
    "point3 = (87, 65)\n",
    "\n",
    "# Create a blank image with white background\n",
    "width, height = 112, 112\n",
    "image = Image.new(\"L\", (width, height), \"white\")\n",
    "draw = ImageDraw.Draw(image)\n",
    "\n",
    "# Draw lines passing through point1 and point3, and point2 and point3\n",
    "draw.line([point1, point3], fill=\"black\", width=2)\n",
    "draw.line([point2, point3], fill=\"black\", width=2)\n",
    "\n",
    "# Fill the area to the right of the lines with black color\n",
    "draw.polygon([point1, point3, (width, height), (width, 0)], fill=\"black\")\n",
    "draw.polygon([point2, point3, (width, height), (width, 0)], fill=\"black\")\n",
    "\n",
    "# Save or display the resulting image\n",
    "image.save(\"output_image.png\")\n",
    "#image.show()\n",
    "np.savetxt('222222222222', image, fmt='%f', delimiter='\\t')\n",
    "plt.imshow(image, cmap='gray')\n",
    "plt.show()\n"
   ]
  },
  {
   "cell_type": "code",
   "execution_count": 35,
   "metadata": {},
   "outputs": [
    {
     "data": {
      "image/png": "[encoded data removed]",
      "text/plain": [
       "<Figure size 432x288 with 1 Axes>"
      ]
     },
     "metadata": {
      "needs_background": "light"
     },
     "output_type": "display_data"
    }
   ],
   "source": [
    "from PIL import Image\n",
    "\n",
    "def multiply_images(image_path1, image_path2, output_path):\n",
    "    # Open the images\n",
    "    img1 = Image.open(image_path1).convert(\"L\")  # Convert to grayscale if not already\n",
    "    img2 = Image.open(image_path2).convert(\"L\")\n",
    "\n",
    "    # Ensure both images have the same size\n",
    "    if img1.size != img2.size:\n",
    "        raise ValueError(\"Images must have the same size\")\n",
    "\n",
    "    # Get the pixel data for both images\n",
    "    pixels1 = list(img1.getdata())\n",
    "    pixels2 = list(img2.getdata())\n",
    "\n",
    "    # Multiply corresponding pixel values\n",
    "    multiplied_pixels = [p1 * p2 // 255 for p1, p2 in zip(pixels1, pixels2)]\n",
    "\n",
    "    # Create a new image with the multiplied pixel values\n",
    "    result_image = Image.new(\"L\", img1.size)\n",
    "    result_image.putdata(multiplied_pixels)\n",
    "\n",
    "    # Save the result image\n",
    "    result_image.save(output_path)\n",
    "    plt.imshow(result_image)\n",
    "    plt.show()\n",
    "\n",
    "# Example usage:\n",
    "image_path1 = \"/home/alanr/Documents/Corazon/output_image.png\"\n",
    "image_path2 = \"/home/alanr/Documents/Corazon/Data/train/mask/0X100E3B8D3280BEC5_25.png\"\n",
    "output_path = \"lineL.png\"\n",
    "\n",
    "multiply_images(image_path1, image_path2, output_path)\n"
   ]
  },
  {
   "cell_type": "code",
   "execution_count": 44,
   "metadata": {},
   "outputs": [
    {
     "name": "stdout",
     "output_type": "stream",
     "text": [
      "(112, 112)\n",
      "(112, 112)\n"
     ]
    },
    {
     "data": {
      "image/png": "[encoded data removed]",
      "text/plain": [
       "<Figure size 432x288 with 1 Axes>"
      ]
     },
     "metadata": {
      "needs_background": "light"
     },
     "output_type": "display_data"
    }
   ],
   "source": [
    "from PIL import Image\n",
    "\n",
    "def multiply_images(image_path1, image_path2, output_path):\n",
    "    # Open the images\n",
    "    img1 = imageRightFirst  # Convert to grayscale if not already\n",
    "    \n",
    "    img2 = Image.open(image_path2).convert(\"L\")\n",
    "    print(img1.size)\n",
    "    print(img2.size)\n",
    "\n",
    "    # Ensure both images have the same size\n",
    "    if img1.size != img2.size:\n",
    "        raise ValueError(\"Images must have the same size\")\n",
    "\n",
    "    # Get the pixel data for both images\n",
    "    pixels1 = list(img1.getdata())\n",
    "    \n",
    "    pixels2 = list(img2.getdata())\n",
    "\n",
    "\n",
    "    # Multiply corresponding pixel values\n",
    "    multiplied_pixels = [p1 * p2 // 255 for p1, p2 in zip(pixels1, pixels2)]\n",
    "\n",
    "    # Create a new image with the multiplied pixel values\n",
    "    result_image = Image.new(\"L\", img1.size)\n",
    "    result_image.putdata(multiplied_pixels)\n",
    "\n",
    "    # Save the result image\n",
    "    result_image.save(output_path)\n",
    "    plt.imshow(result_image, cmap='gray')\n",
    "    plt.show()\n",
    "    return result_image\n",
    "\n",
    "# Example usage:\n",
    "image_path1 = \"/home/alanr/Documents/Corazon/output_image2.png\"\n",
    "image_path2 = \"/home/alanr/Documents/Corazon/Data/train/mask/0X100E3B8D3280BEC5_25.png\"\n",
    "output_path = \"lineR.png\"\n",
    "\n",
    "result_image = multiply_images(image_path1, image_path2, output_path)\n"
   ]
  },
  {
   "cell_type": "code",
   "execution_count": 69,
   "metadata": {},
   "outputs": [
    {
     "data": {
      "image/png": "[encoded data removed]",
      "text/plain": [
       "<Figure size 432x288 with 1 Axes>"
      ]
     },
     "metadata": {
      "needs_background": "light"
     },
     "output_type": "display_data"
    }
   ],
   "source": [
    "import cv2\n",
    "import numpy as np\n",
    "import matplotlib.pyplot as plt\n",
    "\n",
    "# Read the grayscale image\n",
    "image = cv2.imread('/home/alanr/Documents/Corazon/lineL.png', cv2.IMREAD_GRAYSCALE)\n",
    "\n",
    "# Connected Component Analysis\n",
    "num_labels, labels, stats, centroids = cv2.connectedComponentsWithStats(image, connectivity=8)\n",
    "\n",
    "# Find the largest connected component (excluding the background)\n",
    "largest_component_label = np.argmax(stats[1:, cv2.CC_STAT_AREA]) + 1  # +1 to skip the background label\n",
    "\n",
    "# Create a new image with only the largest component\n",
    "largest_component_image = np.zeros_like(image)\n",
    "largest_component_image[labels == largest_component_label] = 255\n",
    "\n",
    "# Save or display the result\n",
    "cv2.imwrite('largest_component.png', largest_component_image)\n",
    "plt.imshow(largest_component_image)\n",
    "plt.show()\n"
   ]
  },
  {
   "cell_type": "code",
   "execution_count": 73,
   "metadata": {},
   "outputs": [
    {
     "data": {
      "image/png": "[encoded data removed]",
      "text/plain": [
       "<Figure size 432x288 with 1 Axes>"
      ]
     },
     "metadata": {
      "needs_background": "light"
     },
     "output_type": "display_data"
    }
   ],
   "source": [
    "import cv2\n",
    "import numpy as np\n",
    "import matplotlib.pyplot as plt\n",
    "\n",
    "# Read the grayscale image\n",
    "image = cv2.imread('/home/alanr/Documents/Corazon/lineR.png', cv2.IMREAD_GRAYSCALE)\n",
    "\n",
    "# Connected Component Analysis\n",
    "num_labels, labels, stats, centroids = cv2.connectedComponentsWithStats(image, connectivity=8)\n",
    "\n",
    "# Find the largest connected component (excluding the background)\n",
    "largest_component_label = np.argmax(stats[1:, cv2.CC_STAT_AREA]) + 1  # +1 to skip the background label\n",
    "\n",
    "# Create a new image with only the largest component\n",
    "largest_component_image = np.zeros_like(image)\n",
    "largest_component_image[labels == largest_component_label] = 255\n",
    "\n",
    "# Save or display the result\n",
    "plt.imshow(largest_component_image)\n",
    "plt.show()\n"
   ]
  },
  {
   "cell_type": "code",
   "execution_count": 60,
   "metadata": {},
   "outputs": [
    {
     "data": {
      "image/png": "[encoded data removed]",
      "text/plain": [
       "<Figure size 432x288 with 1 Axes>"
      ]
     },
     "metadata": {
      "needs_background": "light"
     },
     "output_type": "display_data"
    }
   ],
   "source": [
    "import cv2\n",
    "import numpy as np\n",
    "\n",
    "# Load the image\n",
    "image = largest_component_image\n",
    "\n",
    "# Apply preprocessing (e.g., Gaussian blur)\n",
    "blurred = cv2.GaussianBlur(image, (5, 5), 0)\n",
    "\n",
    "edges = cv2.Canny(blurred, 50, 150)\n",
    "\n",
    "contours, _ = cv2.findContours(edges, cv2.RETR_EXTERNAL, cv2.CHAIN_APPROX_SIMPLE)\n",
    "\n",
    "epsilon = 0.04 * cv2.arcLength(contours[0], True)\n",
    "approx = cv2.approxPolyDP(contours[0], epsilon, True)\n",
    "\n",
    "curvature = np.abs(np.gradient(np.gradient(approx[:, 0, 1])) / np.gradient(np.gradient(approx[:, 0, 0])))\n",
    "\n",
    "max_curvature_index = np.argmax(curvature[1:-1]) + 1  # Exclude start and end points\n",
    "\n",
    "max_curvature_point = tuple(approx[max_curvature_index][0])\n",
    "\n",
    "# Plot the original image\n",
    "plt.imshow(image, cmap='gray')\n",
    "\n",
    "# Mark the point of highest curvature\n",
    "plt.scatter(max_curvature_point[0], max_curvature_point[1], c='red', marker='x', s=100)\n",
    "\n",
    "# Show the plot\n",
    "plt.show()\n"
   ]
  },
  {
   "cell_type": "code",
   "execution_count": 87,
   "metadata": {},
   "outputs": [
    {
     "name": "stdout",
     "output_type": "stream",
     "text": [
      "[[84. 70.]]\n",
      "[[56. 27.]]\n",
      "[[82. 54.]]\n",
      "[[76. 40.]]\n"
     ]
    },
    {
     "data": {
      "image/png": "[encoded data removed]",
      "text/plain": [
       "<Figure size 432x288 with 1 Axes>"
      ]
     },
     "metadata": {
      "needs_background": "light"
     },
     "output_type": "display_data"
    }
   ],
   "source": [
    "#Formula = ((max(y) - min(y))/4) + 2\n",
    "import matplotlib.patches as patches\n",
    "corners = cv2.goodFeaturesToTrack(largest_component_image, maxCorners=4, qualityLevel=0.01, minDistance=14)\n",
    "# Create a figure and axis\n",
    "fig, ax = plt.subplots()\n",
    "\n",
    "# Display the image\n",
    "ax.imshow(largest_component_image)\n",
    "\n",
    "# Plot the points as red squares\n",
    "for point in corners:\n",
    "    print(point)\n",
    "    x, y = point[0]\n",
    "    rect = patches.Rectangle((x - 1, y - 1), 2, 2, linewidth=1, edgecolor='r', facecolor='none')\n",
    "    ax.add_patch(rect)\n",
    "\n",
    "# Show the plot\n",
    "plt.show()\n"
   ]
  }
 ],
 "metadata": {
  "kernelspec": {
   "display_name": "Python 3",
   "language": "python",
   "name": "python3"
  },
  "language_info": {
   "codemirror_mode": {
    "name": "ipython",
    "version": 3
   },
   "file_extension": ".py",
   "mimetype": "text/x-python",
   "name": "python",
   "nbconvert_exporter": "python",
   "pygments_lexer": "ipython3",
   "version": "3.10.12"
  }
 },
 "nbformat": 4,
 "nbformat_minor": 2
}
