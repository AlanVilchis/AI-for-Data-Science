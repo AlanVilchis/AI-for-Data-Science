{
 "cells": [
  {
   "cell_type": "markdown",
   "metadata": {},
   "source": [
    "Codigo para guardar los landmarks a partir del codigo 1_CreacionDatasetCV2.ipynb"
   ]
  },
  {
   "cell_type": "code",
   "execution_count": 29,
   "metadata": {},
   "outputs": [],
   "source": [
    "import cv2\n",
    "import numpy as np\n",
    "import matplotlib.pyplot as plt\n",
    "from skimage.morphology import binary_dilation, binary_erosion, disk\n",
    "from scipy.ndimage import gaussian_filter\n",
    "from skimage.filters import gaussian\n",
    "import os\n",
    "import shutil\n",
    "import math"
   ]
  },
  {
   "cell_type": "code",
   "execution_count": 30,
   "metadata": {},
   "outputs": [],
   "source": [
    "#Load path\n",
    "\n",
    "data_path = '/home/alanr/Documents/Corazon/Data/'"
   ]
  },
  {
   "cell_type": "code",
   "execution_count": 31,
   "metadata": {},
   "outputs": [],
   "source": [
    "paths = [f'{data_path}train/mask',\n",
    "         f'{data_path}val/mask',\n",
    "         f'{data_path}test/mask']\n",
    "\n",
    "output_paths = [f'{data_path}train/landmarks',\n",
    "         f'{data_path}val/landmarks',\n",
    "         f'{data_path}test/landmarks']\n",
    "\n",
    "#ULTIMATUM (modify all landmarks into one image)\n",
    "visual_output_paths = [f'{data_path}train/visual_landmarks',\n",
    "         f'{data_path}val/visual_landmarks',\n",
    "         f'{data_path}test/visual_landmarks']\n",
    "\n",
    "landmark_number = 7"
   ]
  },
  {
   "cell_type": "code",
   "execution_count": 32,
   "metadata": {},
   "outputs": [
    {
     "name": "stdout",
     "output_type": "stream",
     "text": [
      "The directory /home/alanr/Documents/Corazon/Data/train/landmarks has been deleted.\n",
      "The directory /home/alanr/Documents/Corazon/Data/train/visual_landmarks has been deleted.\n",
      "The directory /home/alanr/Documents/Corazon/Data/val/landmarks has been deleted.\n",
      "The directory /home/alanr/Documents/Corazon/Data/val/visual_landmarks has been deleted.\n",
      "The directory /home/alanr/Documents/Corazon/Data/test/landmarks has been deleted.\n",
      "The directory /home/alanr/Documents/Corazon/Data/test/visual_landmarks has been deleted.\n"
     ]
    }
   ],
   "source": [
    "# Clear paths\n",
    "def delete_directory(directory_path):\n",
    "    try:\n",
    "        shutil.rmtree(directory_path)\n",
    "        print(f\"The directory {directory_path} has been deleted.\")\n",
    "    except Exception as e:\n",
    "        print(f\"An error occurred: {e}\")\n",
    "\n",
    "for output_path, visual_path in zip(output_paths, visual_output_paths):\n",
    "    delete_directory(output_path)\n",
    "    delete_directory(visual_path)"
   ]
  },
  {
   "cell_type": "code",
   "execution_count": 33,
   "metadata": {},
   "outputs": [],
   "source": [
    "# Create paths \n",
    "\n",
    "for output_path, visual_path in zip(output_paths, visual_output_paths):\n",
    "    os.makedirs(output_path, exist_ok=True)\n",
    "    os.makedirs(visual_path, exist_ok=True)\n"
   ]
  },
  {
   "cell_type": "code",
   "execution_count": 34,
   "metadata": {},
   "outputs": [],
   "source": [
    "# Define functions\n",
    "\n",
    "# Sort landmarks\n",
    "def angle_from_reference(point, reference):\n",
    "    x, y = point[0] - reference[0], point[1] - reference[1]\n",
    "    return math.atan2(y, x)\n",
    "\n",
    "def sort_points_clockwise(points):\n",
    "    reference_point = min(points, key=lambda p: p[1])\n",
    "    sorted_points = sorted(points, key=lambda p: angle_from_reference(p, reference_point))\n",
    "    return sorted_points\n",
    "\n",
    "def masked_heatmap(outline, landmarks):\n",
    "    masked_heatmaps = []\n",
    "    for i in range(len(landmarks)):\n",
    "        outline = outline / 255.0\n",
    "        masked_heatmap_i = outline * landmarks[i]  # Create a new array instead of modifying 'outline'\n",
    "        \n",
    "        max_val = np.max(landmarks[i])\n",
    "        masked_heatmap_i = masked_heatmap_i / max_val\n",
    "\n",
    "        masked_heatmaps.append(masked_heatmap_i)  # Append the new array to the list\n",
    "\n",
    "    return masked_heatmaps\n",
    "\n",
    "def extract_landmarks(image):\n",
    "    contours, _ = cv2.findContours(image, cv2.RETR_EXTERNAL, cv2.CHAIN_APPROX_SIMPLE)\n",
    "    largest_contour = max(contours, key=cv2.contourArea)\n",
    "    perimeter = cv2.arcLength(largest_contour, closed=True)\n",
    "    mindis = perimeter / (landmark_number * 2)\n",
    "\n",
    "    corners = cv2.goodFeaturesToTrack(image, maxCorners=7, qualityLevel=0.01, minDistance=mindis)\n",
    "    keypoints = [cv2.KeyPoint(x[0][0], x[0][1], 2) for x in corners]\n",
    "    landmarks = [(int(keypoint.pt[0]), int(keypoint.pt[1])) for keypoint in keypoints]\n",
    "    sorted_landmarks = sort_points_clockwise(landmarks)\n",
    "    return sorted_landmarks"
   ]
  },
  {
   "cell_type": "code",
   "execution_count": 35,
   "metadata": {},
   "outputs": [
    {
     "name": "stdout",
     "output_type": "stream",
     "text": [
      "Number of images that doesnt have the correct number of landmarks: 4\n"
     ]
    }
   ],
   "source": [
    "\n",
    "incorrect_number_landmark = 0\n",
    "for input_path, out_path, visual_path in zip(paths, output_paths, visual_output_paths):\n",
    "    for filename in os.listdir(input_path):\n",
    "        if filename.endswith('.png') or filename.endswith('.jpg'):\n",
    "            # Read the image\n",
    "            image_path = os.path.join(input_path, filename)\n",
    "            contour_image = cv2.imread(image_path, cv2.IMREAD_GRAYSCALE)\n",
    "            \n",
    "\n",
    "            # Extract landmarks\n",
    "            landmarks = extract_landmarks(contour_image)\n",
    "\n",
    "            if len(landmarks) == landmark_number:\n",
    "                # Create a 3-channel image (for white color)\n",
    "                contour_image_with_landmarks = cv2.merge([contour_image] * 3)\n",
    "\n",
    "                # Draw landmarks on the 3-channel image in white color\n",
    "                for landmark in landmarks:\n",
    "                    cv2.drawMarker(contour_image_with_landmarks, (landmark[0], landmark[1]), (255, 255, 255), markerType=cv2.MARKER_STAR, markerSize=5)\n",
    "\n",
    "                # Save the image with white landmarks\n",
    "                output_path = os.path.join(visual_path, filename)\n",
    "\n",
    "                cv2.imwrite(output_path, contour_image_with_landmarks)\n",
    "\n",
    "                  # Generate heatmaps\n",
    "                heatmaps = []\n",
    "                for landmark in landmarks:\n",
    "                    # Use a smaller radius (e.g., 2) for a smaller filled circle\n",
    "                    radius = 2\n",
    "                    heatmap = np.zeros_like(contour_image, dtype=np.float32)\n",
    "                    cv2.circle(heatmap, (landmark[0], landmark[1]), radius, 1, -1)  # Create a filled circle at the landmark position\n",
    "                    heatmaps.append(heatmap)\n",
    "\n",
    "                # Apply gaussian filter to each heatmap\n",
    "                var = 2  # You can adjust the variance according to your requirements\n",
    "                #Only the point gaussian (landmark)\n",
    "                gaussian_heatmaps = [gaussian_filter(heatmap, sigma=var) for heatmap in heatmaps]\n",
    "                #Countour * point\n",
    "                masked_heatmaps = masked_heatmap(contour_image , gaussian_heatmaps)\n",
    "                #Countour * point * gaussian\n",
    "                gaussian_masked_heatmaps = [gaussian_filter(heatmap, sigma=var) for heatmap in masked_heatmaps]\n",
    "                masked_heatmaps = gaussian_masked_heatmaps\n",
    "\n",
    "                # Save the heatmaps\n",
    "                for i, heatmap in enumerate(masked_heatmaps):\n",
    "                    clean_filename, _ = os.path.splitext(filename)\n",
    "                    heatmap_filename = f'{clean_filename}_{i}.png'\n",
    "                    heatmap_path = os.path.join(out_path, heatmap_filename)\n",
    "                    plt.imsave(heatmap_path, heatmap, cmap='gray')\n",
    "            else:\n",
    "                incorrect_number_landmark += 1\n",
    "\n",
    "print(f'Number of images that doesnt have the correct number of landmarks: {incorrect_number_landmark}')\n",
    "        "
   ]
  }
 ],
 "metadata": {
  "kernelspec": {
   "display_name": "Python 3",
   "language": "python",
   "name": "python3"
  },
  "language_info": {
   "codemirror_mode": {
    "name": "ipython",
    "version": 3
   },
   "file_extension": ".py",
   "mimetype": "text/x-python",
   "name": "python",
   "nbconvert_exporter": "python",
   "pygments_lexer": "ipython3",
   "version": "3.10.12"
  }
 },
 "nbformat": 4,
 "nbformat_minor": 2
}
